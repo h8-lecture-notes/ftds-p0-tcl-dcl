{
 "cells": [
  {
   "cell_type": "markdown",
   "metadata": {},
   "source": [
    "# SQL: TCL & DCL"
   ]
  },
  {
   "cell_type": "markdown",
   "metadata": {},
   "source": [
    "## TCL\n",
    "\n",
    "- Create a transaction https://www.postgresqltutorial.com/postgresql-tutorial/postgresql-transaction/\n",
    "- Inside a transaction we can define a Savepoint, which is used to divide the transaction into smaller parts and rollback to a specific point if needed.\n",
    "- Rollback to Savepoint statement rolls back the transaction to the specified savepoint.\n",
    "- Release Savepoint statement releases the specified savepoint. After released we cannot rollback to the specified savepoint.\n",
    "- References about savepoint:\n",
    "    - https://www.firebirdsql.org/refdocs/langrefupd15-transcontrol.html"
   ]
  },
  {
   "cell_type": "markdown",
   "metadata": {},
   "source": [
    "## DCL\n",
    "\n",
    "- Grant access https://www.postgresqltutorial.com/postgresql-administration/postgresql-grant/\n",
    "- Revoke access https://www.postgresqltutorial.com/postgresql-administration/postgresql-revoke/"
   ]
  }
 ],
 "metadata": {
  "language_info": {
   "name": "python"
  },
  "orig_nbformat": 4
 },
 "nbformat": 4,
 "nbformat_minor": 2
}
